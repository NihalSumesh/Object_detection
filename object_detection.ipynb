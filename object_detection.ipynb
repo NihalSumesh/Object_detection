{
  "nbformat": 4,
  "nbformat_minor": 0,
  "metadata": {
    "colab": {
      "name": "object_detection.ipynb",
      "version": "0.3.2",
      "provenance": [],
      "collapsed_sections": [],
      "include_colab_link": true
    },
    "kernelspec": {
      "name": "python3",
      "display_name": "Python 3"
    },
    "accelerator": "GPU"
  },
  "cells": [
    {
      "cell_type": "markdown",
      "metadata": {
        "id": "view-in-github",
        "colab_type": "text"
      },
      "source": [
        "<a href=\"https://colab.research.google.com/github/NihalSumesh/Object_detection/blob/master/object_detection.ipynb\" target=\"_parent\"><img src=\"https://colab.research.google.com/assets/colab-badge.svg\" alt=\"Open In Colab\"/></a>"
      ]
    },
    {
      "cell_type": "code",
      "metadata": {
        "id": "f62f01PAPiD6",
        "colab_type": "code",
        "colab": {
          "base_uri": "https://localhost:8080/",
          "height": 170
        },
        "outputId": "751a1b77-e554-48cc-81c7-b169dbff7b65"
      },
      "source": [
        "\"\"\" Simple object detection program which is fed a single file as input and \n",
        "will return the object identified in the image.\n",
        "It classifies the main object in the image and shows the probability of it\n",
        "being any other object.\n",
        "\"\"\"\n",
        "\n",
        "import keras\n",
        "from keras import backend as K\n",
        "from keras.layers.core import Dense, Activation\n",
        "from keras.optimizers import Adam\n",
        "from keras.metrics import categorical_crossentropy\n",
        "from keras.preprocessing.image import ImageDataGenerator\n",
        "from keras.preprocessing import image\n",
        "from keras.models import Model\n",
        "from keras.applications import imagenet_utils\n",
        "import numpy as np\n",
        "from IPython.display import Image\n",
        "\n",
        "#Initializes an instance of the mobilenet model\n",
        "mobile = keras.applications.mobilenet.MobileNet()\n",
        "\n",
        "#Function used to convert the file into a model readable format\n",
        "def prepare_image(file):\n",
        "    img_path = ''\n",
        "    img = image.load_img(img_path + file, target_size=(224, 224))\n",
        "    img_array = image.img_to_array(img)\n",
        "    img_array_expanded_dims = np.expand_dims(img_array, axis=0)\n",
        "    return keras.applications.mobilenet.preprocess_input(img_array_expanded_dims)\n",
        "\n",
        "#Enter the file name you want to classify\n",
        "Image = input(\"Enter the name of the file you wish to classify:\")\n",
        "\n",
        "preprocessed_image = prepare_image(Image)\n",
        "predictions = mobile.predict(preprocessed_image)\n",
        "results = imagenet_utils.decode_predictions(predictions)\n",
        "#Displays the result of the classification \n",
        "results\n",
        "  "
      ],
      "execution_count": 4,
      "outputs": [
        {
          "output_type": "stream",
          "text": [
            "Enter the name of the file you wish to classify:catto.jpg\n",
            "Downloading data from https://s3.amazonaws.com/deep-learning-models/image-models/imagenet_class_index.json\n",
            "40960/35363 [==================================] - 0s 0us/step\n"
          ],
          "name": "stdout"
        },
        {
          "output_type": "execute_result",
          "data": {
            "text/plain": [
              "[[('n02099601', 'golden_retriever', 0.33077523),\n",
              "  ('n02090379', 'redbone', 0.20056506),\n",
              "  ('n02088466', 'bloodhound', 0.058593296),\n",
              "  ('n03803284', 'muzzle', 0.056932975),\n",
              "  ('n04409515', 'tennis_ball', 0.05487171)]]"
            ]
          },
          "metadata": {
            "tags": []
          },
          "execution_count": 4
        }
      ]
    },
    {
      "cell_type": "code",
      "metadata": {
        "id": "Pb8v7WInhKOJ",
        "colab_type": "code",
        "colab": {}
      },
      "source": [
        "#@title Give me a name {display-mode: \"form\"}\n",
        "\n",
        "# This code will be hidden when the notebook is loaded.\n"
      ],
      "execution_count": 0,
      "outputs": []
    }
  ]
}
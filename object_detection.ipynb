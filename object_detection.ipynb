{
  "nbformat": 4,
  "nbformat_minor": 0,
  "metadata": {
    "colab": {
      "name": "object_detection.ipynb",
      "version": "0.3.2",
      "provenance": [],
      "collapsed_sections": [],
      "include_colab_link": true
    },
    "kernelspec": {
      "name": "python3",
      "display_name": "Python 3"
    },
    "accelerator": "GPU"
  },
  "cells": [
    {
      "cell_type": "markdown",
      "metadata": {
        "id": "view-in-github",
        "colab_type": "text"
      },
      "source": [
        "<a href=\"https://colab.research.google.com/github/NihalSumesh/Object_detection/blob/master/object_detection.ipynb\" target=\"_parent\"><img src=\"https://colab.research.google.com/assets/colab-badge.svg\" alt=\"Open In Colab\"/></a>"
      ]
    },
    {
      "cell_type": "code",
      "metadata": {
        "id": "f62f01PAPiD6",
        "colab_type": "code",
        "colab": {}
      },
      "source": [
        "\"\"\" Simple object detection program which is fed a single file as input and \n",
        "will return the object identified in the image.\n",
        "It classifies the main object in the image and shows the probability of it\n",
        "being any other object.\n",
        "\"\"\"\n",
        "\n",
        "import keras\n",
        "from keras import backend as K\n",
        "from keras.layers.core import Dense, Activation\n",
        "from keras.optimizers import Adam\n",
        "from keras.metrics import categorical_crossentropy\n",
        "from keras.preprocessing.image import ImageDataGenerator\n",
        "from keras.preprocessing import image\n",
        "from keras.models import Model\n",
        "from keras.applications import imagenet_utils\n",
        "import numpy as np\n",
        "from IPython.display import Image\n",
        "\n",
        "#Initializes an instance of the mobilenet model\n",
        "mobile = keras.applications.mobilenet.MobileNet()\n",
        "\n",
        "#Function used to convert the file into a model readable format\n",
        "def prepare_image(file):\n",
        "    img_path = ''\n",
        "    img = image.load_img(img_path + file, target_size=(224, 224))\n",
        "    img_array = image.img_to_array(img)\n",
        "    img_array_expanded_dims = np.expand_dims(img_array, axis=0)\n",
        "    return keras.applications.mobilenet.preprocess_input(img_array_expanded_dims)\n",
        "\n",
        "\n",
        "  "
      ],
      "execution_count": 0,
      "outputs": []
    },
    {
      "cell_type": "code",
      "metadata": {
        "id": "FAw6Pzi-c5-E",
        "colab_type": "code",
        "colab": {
          "base_uri": "https://localhost:8080/",
          "height": 117
        },
        "outputId": "3935a909-3132-4eb2-c164-c6cf932d2a36"
      },
      "source": [
        "#Enter the file name you want to classify\n",
        "Image = input(\"Enter the name of the file you wish to classify:\")\n",
        "\n",
        "preprocessed_image = prepare_image(Image)\n",
        "predictions = mobile.predict(preprocessed_image)\n",
        "results = imagenet_utils.decode_predictions(predictions)\n",
        "#Displays the result of the classification \n",
        "results"
      ],
      "execution_count": 6,
      "outputs": [
        {
          "output_type": "stream",
          "text": [
            "Enter the name of the file you wish to classify:rot.jpg\n"
          ],
          "name": "stdout"
        },
        {
          "output_type": "execute_result",
          "data": {
            "text/plain": [
              "[[('n02106550', 'Rottweiler', 0.98493224),\n",
              "  ('n02107142', 'Doberman', 0.011017071),\n",
              "  ('n02089078', 'black-and-tan_coonhound', 0.0023470302),\n",
              "  ('n02099712', 'Labrador_retriever', 0.00042996154),\n",
              "  ('n02101006', 'Gordon_setter', 0.00028616935)]]"
            ]
          },
          "metadata": {
            "tags": []
          },
          "execution_count": 6
        }
      ]
    },
    {
      "cell_type": "code",
      "metadata": {
        "id": "Pb8v7WInhKOJ",
        "colab_type": "code",
        "colab": {}
      },
      "source": [
        "#@title Give me a name {display-mode: \"form\"}\n",
        "\n",
        "# This code will be hidden when the notebook is loaded.\n"
      ],
      "execution_count": 0,
      "outputs": []
    }
  ]
}